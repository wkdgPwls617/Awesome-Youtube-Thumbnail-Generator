{
 "cells": [
  {
   "cell_type": "markdown",
   "metadata": {},
   "source": [
    "### https://learnopencv.com/alpha-blending-using-opencv-cpp-python/"
   ]
  },
  {
   "cell_type": "markdown",
   "metadata": {},
   "source": [
    "# OpenCV를 사용한 알파 블렌딩"
   ]
  },
  {
   "cell_type": "code",
   "execution_count": 9,
   "metadata": {},
   "outputs": [],
   "source": [
    "import cv2\n",
    "import numpy as np\n",
    "import sys\n",
    "import os"
   ]
  },
  {
   "cell_type": "code",
   "execution_count": 10,
   "metadata": {},
   "outputs": [],
   "source": [
    "def Auto_Resizer(target, background) :\n",
    "    target_size = target.shape\n",
    "    background_size = background.shape\n",
    "    resized_background = cv2.resize(target, dsize = (background.shape[1], background.shape[0]), interpolation = cv2.INTER_CUBIC)\n",
    "    return resized_background\n",
    "\n",
    "def Masking(mask, target, background) : \n",
    "    foreground = cv2.multiply(mask, target)\n",
    "    background = cv2.multiply(1.0-mask, background)\n",
    "    return  cv2.add(foreground, background)/255\n",
    "\n",
    "def Masking_and_Print(mask, target, background) : \n",
    "    foreground = cv2.multiply(mask, target)\n",
    "    background = cv2.multiply(1.0-mask, background)\n",
    "    cv2.imshow(\"outIamge\",cv2.add(foreground, background)/255)\n",
    "    cv2.waitKey(0)\n"
   ]
  },
  {
   "cell_type": "code",
   "execution_count": 13,
   "metadata": {},
   "outputs": [
    {
     "name": "stdout",
     "output_type": "stream",
     "text": [
      "Target Size \t : (536, 800, 3)\n",
      "Background Size\t : (536, 800, 3)\n",
      "Mask Size\t : (536, 800, 3)\n"
     ]
    }
   ],
   "source": [
    "# 이미지 임포팅\n",
    "foreground = cv2.imread(\"koala.png\").astype(float)\n",
    "background = Auto_Resizer(cv2.imread(\"beach.jpg\").astype(float),foreground)\n",
    "alpha = cv2.imread(\"koala_alpha.png\")/255\n",
    "\n",
    "# 행렬곱을 위해 이미지의 크기 확인\n",
    "print('Target Size \\t :',foreground.shape)\n",
    "print('Background Size\\t :',background.shape)\n",
    "print('Mask Size\\t :',alpha.shape)"
   ]
  },
  {
   "cell_type": "code",
   "execution_count": null,
   "metadata": {},
   "outputs": [],
   "source": [
    "Masking_and_Print(alpha,foreground,background )"
   ]
  },
  {
   "cell_type": "code",
   "execution_count": null,
   "metadata": {},
   "outputs": [],
   "source": []
  }
 ],
 "metadata": {
  "kernelspec": {
   "display_name": "Python 3",
   "language": "python",
   "name": "python3"
  },
  "language_info": {
   "codemirror_mode": {
    "name": "ipython",
    "version": 3
   },
   "file_extension": ".py",
   "mimetype": "text/x-python",
   "name": "python",
   "nbconvert_exporter": "python",
   "pygments_lexer": "ipython3",
   "version": "3.8.5"
  }
 },
 "nbformat": 4,
 "nbformat_minor": 5
}
